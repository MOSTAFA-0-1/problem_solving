{
 "cells": [
  {
   "cell_type": "markdown",
   "metadata": {},
   "source": [
    "Given two sorted arrays nums1 and nums2 of size m and n respectively, return the median of the two sorted arrays.\n",
    "\n",
    "The overall run time complexity should be O(log (m+n)).\n",
    "\n",
    " \n",
    "\n",
    "Example 1:\n",
    "\n",
    "Input: nums1 = [1,3], nums2 = [2]\n",
    "Output: 2.00000\n",
    "Explanation: merged array = [1,2,3] and median is 2.\n",
    "Example 2:\n",
    "\n",
    "Input: nums1 = [1,2], nums2 = [3,4]\n",
    "Output: 2.50000\n",
    "Explanation: merged array = [1,2,3,4] and median is (2 + 3) / 2 = 2.5."
   ]
  },
  {
   "cell_type": "code",
   "execution_count": 14,
   "metadata": {},
   "outputs": [
    {
     "data": {
      "text/plain": [
       "[9, 1, 2, 3]"
      ]
     },
     "execution_count": 14,
     "metadata": {},
     "output_type": "execute_result"
    }
   ],
   "source": [
    "arr1 = [1,2,3]\n",
    "arr2= [4,5]\n",
    " \n",
    "arr1.insert(0,9)\n",
    "arr1\n",
    "# arr1.__add__(arr2)"
   ]
  },
  {
   "cell_type": "code",
   "execution_count": null,
   "metadata": {},
   "outputs": [],
   "source": []
  },
  {
   "cell_type": "code",
   "execution_count": 8,
   "metadata": {},
   "outputs": [],
   "source": [
    "class Solution(object):\n",
    "    def marge(self,arr1,arr2):\n",
    "        isAded = False\n",
    "        lower_index=0\n",
    "        i = 0\n",
    "        for i in range(len(arr2)):\n",
    "            upper_index = len(arr1) - 1\n",
    "            isAded=False\n",
    "            if(lower_index == upper_index):\n",
    "                break\n",
    "            while isAded == False:\n",
    "                if(upper_index - lower_index == 1):\n",
    "                    if(arr2[i]<arr1[lower_index]):\n",
    "                      arr1.insert(lower_index,arr2[i])\n",
    "                    elif(arr2[i]<arr1[upper_index]):\n",
    "                      arr1.insert(upper_index,arr2[i],)\n",
    "                      lower_index = upper_index\n",
    "                    else:    \n",
    "                        arr1.insert(upper_index+1,arr2[i],)\n",
    "                        lower_index = upper_index +1   \n",
    "                    isAded = True\n",
    "                    break    \n",
    "                elif(arr2[i] > arr1[(lower_index+upper_index)//2]):\n",
    "                    lower_index = (lower_index+upper_index)//2\n",
    "                else : upper_index = (lower_index+upper_index)//2 \n",
    "                \n",
    "        if(i<len(arr2)):\n",
    "            arr1.__add__(arr2)\n",
    "        return arr1    \n",
    "        \n",
    "\n",
    "    def findMedianSortedArrays(self, nums1, nums2):\n",
    "        if(len(nums1)<len(nums2)):\n",
    "            nums1 = self.marge(nums1,nums2)          \n",
    "        nums1 = self.marge(nums2,nums1)\n",
    "        lenarr = len(nums1)\n",
    "        if(lenarr%2==0):\n",
    "            return (nums1[lenarr//2]+nums1[lenarr//2 -1])/2\n",
    "        return nums1[lenarr//2]\n",
    "        "
   ]
  },
  {
   "cell_type": "code",
   "execution_count": 10,
   "metadata": {},
   "outputs": [],
   "source": [
    "class Solution(object):\n",
    "    def merge(self, arr1, arr2):\n",
    "        merged = []\n",
    "        i, j = 0, 0\n",
    "        \n",
    "        while i < len(arr1) and j < len(arr2):\n",
    "            if arr1[i] < arr2[j]:\n",
    "                merged.append(arr1[i])\n",
    "                i += 1\n",
    "            else:\n",
    "                merged.append(arr2[j])\n",
    "                j += 1\n",
    "        \n",
    "        while i < len(arr1):\n",
    "            merged.append(arr1[i])\n",
    "            i += 1\n",
    "        \n",
    "        while j < len(arr2):\n",
    "            merged.append(arr2[j])\n",
    "            j += 1\n",
    "        \n",
    "        return merged\n",
    "    \n",
    "    def findMedianSortedArrays(self, nums1, nums2):\n",
    "        merged = self.merge(nums1, nums2)\n",
    "        len_merged = len(merged)\n",
    "        \n",
    "        if len_merged % 2 == 0:\n",
    "            return (merged[len_merged // 2] + merged[len_merged // 2 - 1]) / 2.0\n",
    "        else:\n",
    "            return merged[len_merged // 2]"
   ]
  },
  {
   "cell_type": "code",
   "execution_count": 13,
   "metadata": {},
   "outputs": [],
   "source": [
    "class Solution(object):\n",
    "    def findMedianSortedArrays(self, nums1, nums2):\n",
    "        \n",
    "        nums1.extend(nums2)\n",
    "        print(nums1)\n",
    "        nums1.sort()\n",
    "\n",
    "        size = len(nums1)\n",
    "        index1 = nums1[(size//2)]\n",
    "        index2 = nums1[(size//2)-1]\n",
    "        sumr = (index1 + index2)\n",
    "        return sumr/ 2.0 if size % 2 == 0 and sumr != 0  else nums1[size//2]"
   ]
  },
  {
   "cell_type": "code",
   "execution_count": 15,
   "metadata": {},
   "outputs": [
    {
     "name": "stdout",
     "output_type": "stream",
     "text": [
      "[1, 2, 9, 3, 4]\n"
     ]
    },
    {
     "data": {
      "text/plain": [
       "3"
      ]
     },
     "execution_count": 15,
     "metadata": {},
     "output_type": "execute_result"
    }
   ],
   "source": [
    "arr1 = [1,2,9]\n",
    "arr2= [3,4]\n",
    "\n",
    "Solution().findMedianSortedArrays(arr1,arr2)"
   ]
  }
 ],
 "metadata": {
  "kernelspec": {
   "display_name": "Python 3",
   "language": "python",
   "name": "python3"
  },
  "language_info": {
   "codemirror_mode": {
    "name": "ipython",
    "version": 3
   },
   "file_extension": ".py",
   "mimetype": "text/x-python",
   "name": "python",
   "nbconvert_exporter": "python",
   "pygments_lexer": "ipython3",
   "version": "3.12.1"
  }
 },
 "nbformat": 4,
 "nbformat_minor": 2
}
