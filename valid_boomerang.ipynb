{
 "cells": [
  {
   "cell_type": "markdown",
   "metadata": {},
   "source": [
    "# problem \n",
    "  if all point on the same line return false else return true <br> \n",
    "Example 1:<br>\n",
    "\n",
    "Input: points = [[1,1],[2,3],[3,2]]<br>\n",
    "Output: true<br>\n",
    "Example 2:<br>\n",
    "\n",
    "Input: points = [[1,1],[2,2],[3,3]]<br>\n",
    "Output: false"
   ]
  },
  {
   "cell_type": "code",
   "execution_count": 19,
   "metadata": {},
   "outputs": [],
   "source": [
    "class Solution(object):\n",
    "    def isBoomerang(self, points):\n",
    "        if(points[0][1] - points[1][1] == 0):\n",
    "            if(points[0][1] == points[2][1]):return False\n",
    "            else : return True\n",
    "        elif (points[0][0] - points[1][0])/(points[0][1] - points[1][1]) == (points[0][0] - points[2][0])/(points[0][1] - points[2][1]):\n",
    "            return False\n",
    "        return True\n",
    "    "
   ]
  },
  {
   "cell_type": "code",
   "execution_count": 28,
   "metadata": {},
   "outputs": [],
   "source": [
    "class Solution(object):\n",
    "    def isBoomerang(self, points):\n",
    "        (x1, y1), (x2, y2), (x3, y3) = points\n",
    "        return (x2 - x1) * (y3 - y1) != (x3 - x1) * (y2 - y1)\n",
    "    "
   ]
  },
  {
   "cell_type": "code",
   "execution_count": 26,
   "metadata": {},
   "outputs": [
    {
     "data": {
      "text/plain": [
       "True"
      ]
     },
     "execution_count": 26,
     "metadata": {},
     "output_type": "execute_result"
    }
   ],
   "source": [
    "Solution().isBoomerang([[1,1],[2,1],[3,2]])"
   ]
  },
  {
   "cell_type": "code",
   "execution_count": 27,
   "metadata": {},
   "outputs": [
    {
     "data": {
      "text/plain": [
       "False"
      ]
     },
     "execution_count": 27,
     "metadata": {},
     "output_type": "execute_result"
    }
   ],
   "source": [
    "Solution().isBoomerang([[1,1],[2,2],[3,3]])"
   ]
  }
 ],
 "metadata": {
  "kernelspec": {
   "display_name": "Python 3",
   "language": "python",
   "name": "python3"
  },
  "language_info": {
   "codemirror_mode": {
    "name": "ipython",
    "version": 3
   },
   "file_extension": ".py",
   "mimetype": "text/x-python",
   "name": "python",
   "nbconvert_exporter": "python",
   "pygments_lexer": "ipython3",
   "version": "3.12.1"
  }
 },
 "nbformat": 4,
 "nbformat_minor": 2
}
